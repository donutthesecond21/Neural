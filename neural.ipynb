{
 "cells": [
  {
   "cell_type": "code",
   "execution_count": 19,
   "metadata": {
    "scrolled": false
   },
   "outputs": [
    {
     "name": "stdout",
     "output_type": "stream",
     "text": [
      "number of inputs = 3\n",
      "this code works only when N=n until further upgrading is done to the code\n",
      "number of neurons per layer = 3\n",
      "Number of layers = 3\n",
      "number of neurons = 3\n"
     ]
    },
    {
     "data": {
      "text/plain": [
       "array([[[0.08906374, 0.10996306, 0.26304986],\n",
       "        [0.83942553, 0.61128027, 0.19662411],\n",
       "        [0.374311  , 0.2107909 , 0.24355733]],\n",
       "\n",
       "       [[0.06637685, 0.83286452, 0.83052892],\n",
       "        [0.6408978 , 0.89703608, 0.71123727],\n",
       "        [0.07077712, 0.29781014, 0.28146034]],\n",
       "\n",
       "       [[0.18469424, 0.4414216 , 0.61358478],\n",
       "        [0.57082847, 0.96245001, 0.19644804],\n",
       "        [0.02286952, 0.91580239, 0.89397926]]])"
      ]
     },
     "execution_count": 19,
     "metadata": {},
     "output_type": "execute_result"
    }
   ],
   "source": [
    " \n",
    "import numpy as np\n",
    "import pandas as pd\n",
    "import matplotlib.pyplot as plt\n",
    "\n",
    "#activation function\n",
    "def sigmoid(a):\n",
    "   return 1/(1+np.exp(-1*a))\n",
    "\n",
    "def d_sigmoid(a):\n",
    "    return np.exp(-1*a)/((1+np.exp(-1*a))**2)\n",
    "\n",
    "#input layer\n",
    "d=pd.read_csv(r'C:\\Users\\amroa\\Desktop\\input.csv')\n",
    "input_a=np.array(d['.'].tolist())\n",
    "\n",
    "n=input_a.size #number of inputs\n",
    "print(\"number of inputs = \"+str(n))\n",
    "print(\"this code works only when N=n until further upgrading is done to the code\")\n",
    "N=int(input('number of neurons per layer = '))\n",
    "l=int(input('Number of layers = '))\n",
    "print(\"number of neurons = \"+str(N))\n",
    "weights=np.random.rand(l,N,n) \n",
    "hidden_layer_matrix=np.zeros((N,l))\n",
    "# layer, neuron, the input coefficient number--> weights[0] are the weights that map layer 0 to layer 1(layer 0 is input)\n",
    " \n",
    "#forward propagation\n",
    "def forward(hidden_layer_matrix,weights):\n",
    "    hidden_layer_matrix[:,0]=sigmoid(weights[0]@input_a)\n",
    "    for i in range(1,l):\n",
    "        hidden_layer_matrix[:,i]=sigmoid(weights[i]@hidden_layer_matrix[:,i-1])\n",
    "    return hidden_layer_matrix\n",
    "    \n",
    "#back propagation\n",
    "d_mat=np.zeros((l,N,n)) #matrix of derivatives of the cost function with respect to all weights\n",
    "\n",
    "#LAST STEP IS TO DEFINE D_MAT AND WE ARE DONE\n",
    "\n",
    "def back(hidden_layer_matrix,weights,r):\n",
    "    #r=learning rate\n",
    "    while(d_mat.all()>0.1):\n",
    "        weights=weights-r*d_mat\n",
    "        forward(hidden_layer_matrix,weights)\n",
    "    return weights\n",
    "        \n",
    "    \n",
    "     \n",
    "\n",
    "forward(hidden_layer_matrix,weights)\n",
    "back(hidden_layer_matrix,weights,0.01)\n",
    "\n",
    "\n",
    "\n"
   ]
  },
  {
   "cell_type": "code",
   "execution_count": null,
   "metadata": {},
   "outputs": [],
   "source": []
  }
 ],
 "metadata": {
  "kernelspec": {
   "display_name": "Python 3",
   "language": "python",
   "name": "python3"
  },
  "language_info": {
   "codemirror_mode": {
    "name": "ipython",
    "version": 3
   },
   "file_extension": ".py",
   "mimetype": "text/x-python",
   "name": "python",
   "nbconvert_exporter": "python",
   "pygments_lexer": "ipython3",
   "version": "3.8.5"
  }
 },
 "nbformat": 4,
 "nbformat_minor": 4
}
